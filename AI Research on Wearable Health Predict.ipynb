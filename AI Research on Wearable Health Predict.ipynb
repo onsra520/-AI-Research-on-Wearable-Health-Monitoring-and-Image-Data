{
 "cells": [
  {
   "cell_type": "code",
   "execution_count": 1,
   "metadata": {},
   "outputs": [],
   "source": [
    "import os\n",
    "import tensorflow as tf\n",
    "import pandas as pd\n",
    "from sklearn.model_selection import train_test_split\n",
    "from sklearn.preprocessing import OneHotEncoder\n",
    "from tensorflow.keras.preprocessing.text import Tokenizer\n",
    "from tensorflow.keras.preprocessing.sequence import pad_sequences\n",
    "from datetime import datetime"
   ]
  },
  {
   "cell_type": "code",
   "execution_count": null,
   "metadata": {},
   "outputs": [],
   "source": [
    "# Bước 1: Đọc dữ liệu từ CSV\n",
    "data = pd.read_csv(os.path.join(\"AI Research Dataset\",\"AI Research Paper Dataset - Cleanned.csv\"))\n",
    "\n",
    "# Bước 2: Tiền xử lý dữ liệu\n",
    "# Chuyển ngày thành timestamp\n",
    "data['Published'] = pd.to_datetime(data['Published']).map(datetime.timestamp)\n",
    "data['Updated'] = pd.to_datetime(data['Updated']).map(datetime.timestamp)\n",
    "\n",
    "# Mã hóa các cột phân loại: Authors, Primary Category\n",
    "encoder = OneHotEncoder()\n",
    "authors_encoded = encoder.fit_transform(data[['Authors']]).toarray()\n",
    "category_encoded = encoder.fit_transform(data[['Primary Category']]).toarray()\n",
    "\n",
    "# Chuẩn bị dữ liệu văn bản (Title + Summary)\n",
    "texts = data['Title'] + ' ' + data['Summary']\n",
    "\n",
    "# Sử dụng Tokenizer để chuyển đổi văn bản thành số\n",
    "tokenizer = Tokenizer(num_words=5000)  # Giới hạn 5000 từ phổ biến nhất\n",
    "tokenizer.fit_on_texts(texts)\n",
    "text_sequences = tokenizer.texts_to_sequences(texts)\n",
    "\n",
    "# Chuyển đổi các chuỗi thành cùng kích thước (padding)\n",
    "text_padded = pad_sequences(text_sequences, maxlen=100)\n",
    "\n",
    "# Tạo tập dữ liệu đầu vào (X) và nhãn (y)\n",
    "X = pd.concat([pd.DataFrame(authors_encoded), pd.DataFrame(category_encoded), \n",
    "               pd.DataFrame(text_padded), data[['Published', 'Updated']]], axis=1)\n",
    "y = data['Target']  # Nhãn mục tiêu: Có liên quan đến \"Wearable Health Monitoring\" hay không (0/1)\n",
    "\n",
    "# Chia dữ liệu thành train và test\n",
    "X_train, X_test, y_train, y_test = train_test_split(X, y, test_size=0.2, random_state=42)\n",
    "\n",
    "# Bước 3: Xây dựng mô hình LSTM\n",
    "model = tf.keras.Sequential([\n",
    "    tf.keras.layers.Embedding(input_dim=5000, output_dim=128, input_length=100),\n",
    "    tf.keras.layers.LSTM(64, return_sequences=True),\n",
    "    tf.keras.layers.LSTM(32),\n",
    "    tf.keras.layers.Dense(16, activation='relu'),\n",
    "    tf.keras.layers.Dense(1, activation='sigmoid')  # Dự đoán nhị phân (có liên quan hoặc không)\n",
    "])\n",
    "\n",
    "# Bước 4: Compile mô hình\n",
    "model.compile(optimizer='adam', loss='binary_crossentropy', metrics=['accuracy'])\n",
    "\n",
    "# Bước 5: Huấn luyện mô hình\n",
    "history = model.fit(X_train, y_train, validation_data=(X_test, y_test), epochs=10, batch_size=32)\n",
    "\n",
    "# Bước 6: Đánh giá mô hình\n",
    "test_loss, test_accuracy = model.evaluate(X_test, y_test)\n",
    "print(f'Độ chính xác trên tập kiểm tra: {test_accuracy * 100:.2f}%')"
   ]
  }
 ],
 "metadata": {
  "kernelspec": {
   "display_name": "python3",
   "language": "python",
   "name": "python3"
  },
  "language_info": {
   "codemirror_mode": {
    "name": "ipython",
    "version": 3
   },
   "file_extension": ".py",
   "mimetype": "text/x-python",
   "name": "python",
   "nbconvert_exporter": "python",
   "pygments_lexer": "ipython3",
   "version": "3.10.14"
  }
 },
 "nbformat": 4,
 "nbformat_minor": 2
}
